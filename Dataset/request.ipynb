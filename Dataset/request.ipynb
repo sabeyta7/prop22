{
 "cells": [
  {
   "cell_type": "code",
   "execution_count": 31,
   "metadata": {},
   "outputs": [],
   "source": [
    "import requests\n",
    "import pickle as pkl\n",
    "from time import sleep\n",
    "from tqdm import tqdm\n"
   ]
  },
  {
   "cell_type": "code",
   "execution_count": 13,
   "metadata": {},
   "outputs": [],
   "source": [
    "API_TOKEN = input(\"Enter your API token: \")"
   ]
  },
  {
   "cell_type": "code",
   "execution_count": 32,
   "metadata": {},
   "outputs": [],
   "source": [
    "dataset = []"
   ]
  },
  {
   "cell_type": "code",
   "execution_count": 33,
   "metadata": {},
   "outputs": [
    {
     "name": "stderr",
     "output_type": "stream",
     "text": [
      "Downloading data:   7%|▋         | 7/100 [00:46<10:50,  6.99s/it]"
     ]
    }
   ],
   "source": [
    "url = \"https://wextractor.com/api/v1/reviews/glassdoor\"\n",
    "\n",
    "##Specify page numbers\n",
    "offset_range = [i * 10 for i in range(250, 350)] # post ids\n",
    "\n",
    "for offset in tqdm(offset_range, desc=\"Downloading data\"):\n",
    "    params = {\n",
    "        \"id\": \"575263\",\n",
    "        \"auth_token\": API_TOKEN,\n",
    "        \"language\": \"en\",\n",
    "        \"offset\": offset,\n",
    "    }\n",
    "\n",
    "    # Make the API request\n",
    "    response = requests.get(url, params=params)\n",
    "\n",
    "    # Process the response\n",
    "    if response.status_code == 200:\n",
    "        data = response.json()\n",
    "        ### Add to the list\n",
    "        dataset.extend(data[\"reviews\"])\n",
    "\n",
    "    else:\n",
    "        print(\"Error:\", response.status_code)\n",
    "    sleep(2)"
   ]
  },
  {
   "cell_type": "code",
   "execution_count": null,
   "metadata": {},
   "outputs": [],
   "source": [
    "with open(\"glassdoor_2500_3500.pkl\", \"wb\") as f:\n",
    "    pkl.dump(dataset, f)"
   ]
  }
 ],
 "metadata": {
  "kernelspec": {
   "display_name": "main",
   "language": "python",
   "name": "python3"
  },
  "language_info": {
   "codemirror_mode": {
    "name": "ipython",
    "version": 3
   },
   "file_extension": ".py",
   "mimetype": "text/x-python",
   "name": "python",
   "nbconvert_exporter": "python",
   "pygments_lexer": "ipython3",
   "version": "3.10.11"
  },
  "orig_nbformat": 4
 },
 "nbformat": 4,
 "nbformat_minor": 2
}
