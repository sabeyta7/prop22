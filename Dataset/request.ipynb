{
 "cells": [
  {
   "cell_type": "code",
   "execution_count": 1,
   "metadata": {},
   "outputs": [],
   "source": [
    "import requests\n",
    "import pickle as pkl\n",
    "from time import sleep\n",
    "from tqdm import tqdm\n",
    "import pandas as pd \n",
    "from bs4 import BeautifulSoup\n",
    "import cloudscraper \n",
    "\n",
    "def parse(html):\n",
    "    \"\"\"Parses the HTML for the price of the product.\"\"\"\n",
    "    soup = BeautifulSoup(html, 'html.parser')\n",
    "    try:\n",
    "        # Find the span element with the class \"product-price\"\n",
    "        output = soup.find('span', class_='common__EiReviewDetailsStyle__newUiJobLine').text\n",
    "        return output\n",
    "    except:\n",
    "        print(\"Error parsing for location\")"
   ]
  },
  {
   "cell_type": "code",
   "execution_count": 13,
   "metadata": {},
   "outputs": [],
   "source": [
    "API_TOKEN = input(\"Enter your API token: \")"
   ]
  },
  {
   "cell_type": "code",
   "execution_count": 32,
   "metadata": {},
   "outputs": [],
   "source": [
    "dataset = []"
   ]
  },
  {
   "cell_type": "code",
   "execution_count": null,
   "metadata": {},
   "outputs": [],
   "source": [
    "url = \"https://wextractor.com/api/v1/reviews/glassdoor\"\n",
    "\n",
    "##Specify page numbers\n",
    "offset_range = [i * 10 for i in range(250, 350)] # post ids\n",
    "\n",
    "for offset in tqdm(offset_range, desc=\"Downloading data\"):\n",
    "    params = {\n",
    "        \"id\": \"575263\",\n",
    "        \"auth_token\": API_TOKEN,\n",
    "        \"language\": \"en\",\n",
    "        \"offset\": offset,\n",
    "    }\n",
    "\n",
    "    # Make the API request\n",
    "    response = requests.get(url, params=params)\n",
    "\n",
    "    # Process the response\n",
    "    if response.status_code == 200:\n",
    "        data = response.json()\n",
    "        ### Add to the list\n",
    "        dataset.extend(data[\"reviews\"])\n",
    "\n",
    "    else:\n",
    "        print(\"Error:\", response.status_code)\n"
   ]
  },
  {
   "cell_type": "code",
   "execution_count": 3,
   "metadata": {},
   "outputs": [],
   "source": [
    "try: \n",
    "    #with open(\"glassdoor_2500_3500.pkl\", \"wb\") as f:\n",
    "    #   pkl.dump(dataset, f)\n",
    "    df = pd.DataFrame(dataset).set_index(\"id\")\n",
    "    df[\"datetime\"] = pd.to_datetime(df[\"datetime\"])\n",
    "    df.to_csv(\"glassdoor_2500_3500.csv\")\n",
    "except:\n",
    "    df = pd.read_csv(\"glassdoor_2500_3500.csv\", index_col=\"id\")\n",
    "    df[\"raw_meta\"] = \"\""
   ]
  },
  {
   "cell_type": "code",
   "execution_count": 14,
   "metadata": {},
   "outputs": [
    {
     "name": "stderr",
     "output_type": "stream",
     "text": [
      "Scraping locations: 954it [11:08,  1.87s/it]"
     ]
    },
    {
     "name": "stdout",
     "output_type": "stream",
     "text": [
      "Feb 20, 2022 - Coordinator in Warsaw, Masovia\n"
     ]
    },
    {
     "name": "stderr",
     "output_type": "stream",
     "text": [
      "Scraping locations: 955it [11:10,  1.73s/it]"
     ]
    },
    {
     "name": "stdout",
     "output_type": "stream",
     "text": [
      "Feb 20, 2022 - Team Leader in Angeles, Pampanga\n"
     ]
    },
    {
     "name": "stderr",
     "output_type": "stream",
     "text": [
      "Scraping locations: 956it [11:12,  1.80s/it]"
     ]
    },
    {
     "name": "stdout",
     "output_type": "stream",
     "text": [
      "Feb 20, 2022 - Community Operations Manager in Sydney\n"
     ]
    },
    {
     "name": "stderr",
     "output_type": "stream",
     "text": [
      "Scraping locations: 957it [11:13,  1.75s/it]"
     ]
    },
    {
     "name": "stdout",
     "output_type": "stream",
     "text": [
      "Feb 20, 2022 - Team Lead in Phoenix, AZ\n"
     ]
    },
    {
     "name": "stderr",
     "output_type": "stream",
     "text": [
      "Scraping locations: 958it [11:14,  1.59s/it]"
     ]
    },
    {
     "name": "stdout",
     "output_type": "stream",
     "text": [
      "Feb 20, 2022 - Regional Head of Operations in Amsterdam\n"
     ]
    },
    {
     "name": "stderr",
     "output_type": "stream",
     "text": [
      "Scraping locations: 959it [11:16,  1.55s/it]"
     ]
    },
    {
     "name": "stdout",
     "output_type": "stream",
     "text": [
      "Feb 20, 2022 - Delivery Driver \n"
     ]
    },
    {
     "name": "stderr",
     "output_type": "stream",
     "text": [
      "Scraping locations: 960it [11:18,  1.42it/s]"
     ]
    },
    {
     "name": "stdout",
     "output_type": "stream",
     "text": [
      "Feb 20, 2022 - Delivery Driver \n"
     ]
    },
    {
     "name": "stderr",
     "output_type": "stream",
     "text": [
      "\n"
     ]
    }
   ],
   "source": [
    "# Create cloudscraper instance \n",
    "scraper = cloudscraper.create_scraper() \n",
    "# Start scrapping\n",
    "for i, row in tqdm(df.iterrows(), desc=\"Scraping locations\"):\n",
    "    ###### in case of error #################\n",
    "    # aka if we already have the data -> skip\n",
    "    if row[\"raw_meta\"] != \"\":\n",
    "        continue\n",
    "    #########################################\n",
    "    page = scraper.get(df.loc[i, \"url\"])\n",
    "    loc = parse(page.content)\n",
    "    print(loc)\n",
    "    df.loc[i, \"raw_meta\"] = loc\n",
    "# Or: scraper = cloudscraper.CloudScraper() # CloudScraper inherits from requests.Session \n"
   ]
  },
  {
   "cell_type": "code",
   "execution_count": 27,
   "metadata": {},
   "outputs": [],
   "source": [
    "def get_location(x):\n",
    "    try:\n",
    "        if \"in \" in x:\n",
    "            return x.split(\"in\")[-1].strip()\n",
    "        else: \n",
    "            return None\n",
    "    except:\n",
    "        return None\n",
    "df[\"location\"] = df.apply(lambda x: get_location(x[\"raw_meta\"]), axis=1)\n",
    "df.to_csv(\"glassdoor_2500_3500_with_loc.csv\")"
   ]
  },
  {
   "cell_type": "code",
   "execution_count": 26,
   "metadata": {},
   "outputs": [
    {
     "data": {
      "text/plain": [
       "id\n",
       "66362518               None\n",
       "66359165               None\n",
       "66344375    Los Angeles, CA\n",
       "66335091       New York, NY\n",
       "66329753               None\n",
       "                 ...       \n",
       "60008846             Sydney\n",
       "60005224        Phoenix, AZ\n",
       "59999562          Amsterdam\n",
       "59999533               None\n",
       "59996398               None\n",
       "Name: location, Length: 960, dtype: object"
      ]
     },
     "execution_count": 26,
     "metadata": {},
     "output_type": "execute_result"
    }
   ],
   "source": []
  },
  {
   "cell_type": "code",
   "execution_count": null,
   "metadata": {},
   "outputs": [],
   "source": []
  }
 ],
 "metadata": {
  "kernelspec": {
   "display_name": "main",
   "language": "python",
   "name": "python3"
  },
  "language_info": {
   "codemirror_mode": {
    "name": "ipython",
    "version": 3
   },
   "file_extension": ".py",
   "mimetype": "text/x-python",
   "name": "python",
   "nbconvert_exporter": "python",
   "pygments_lexer": "ipython3",
   "version": "3.10.11"
  },
  "orig_nbformat": 4
 },
 "nbformat": 4,
 "nbformat_minor": 2
}
