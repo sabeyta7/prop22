{
 "cells": [
  {
   "cell_type": "code",
   "execution_count": 178,
   "metadata": {},
   "outputs": [],
   "source": [
    "import pandas as pd\n",
    "import numpy as np\n",
    "import matplotlib.pyplot as plt"
   ]
  },
  {
   "cell_type": "code",
   "execution_count": 179,
   "metadata": {},
   "outputs": [],
   "source": [
    "def clean_location(x):\n",
    "    x = str(x).lower().strip()\n",
    "    x = x.replace(\"  \", \" \").replace(\".\", \"\").replace(\",\", \"\")\n",
    "    if (\"ca \" in x) or (\" ca\" in x) or (\"california\" in x) or (\"calif\" in x):\n",
    "        return \"ca\"\n",
    "    return x"
   ]
  },
  {
   "cell_type": "code",
   "execution_count": 180,
   "metadata": {},
   "outputs": [],
   "source": [
    "paths = [\"indeed_uber_reviews.csv\", \"indeed_Uber-Drivers_reviews.csv\", \n",
    "         \"indeed_Ubereats_reviews.csv\", \"indeed_Lyft_reviews.csv\", \"indeed_Instacart_reviews.csv\",\n",
    "         \"indeed_Grubhub_reviews.csv\", \"indeed_Doordash_reviews.csv\"]\n",
    "dataframes = []\n",
    "for path in paths:\n",
    "    _df = pd.read_csv(path)\n",
    "    _df[\"company\"] = path.split(\"_\")[1].lower()\n",
    "    dataframes.append(_df)\n",
    "    \n",
    "df = pd.concat(dataframes).drop_duplicates().set_index(\"id\").drop([\"url\", \"language\"], axis=1)\n",
    "df[\"state\"]\n",
    "\n",
    "df[\"datetime\"] = pd.to_datetime(df[\"datetime\"])\n",
    "# create year and month columns\n",
    "df['year'] = df['datetime'].dt.year\n",
    "df['month'] = df['datetime'].dt.month\n",
    "df[\"state\"] = df[\"state\"].apply(clean_location)"
   ]
  },
  {
   "cell_type": "code",
   "execution_count": 176,
   "metadata": {},
   "outputs": [],
   "source": [
    "state_filter = [\"ca\", \"san francisco\", \"nuevo león\", \"san jose\", \"san diego\", \"fresno\",\n",
    "                \"southern calif\", \"sacramento\", \"los angeles\", \"san francisco bay area\", \"bay area\",\n",
    "                \"san diego\", \"orange county\", \"paso robles\", \"glendale\"] # we want to pick reviews that have either of these in the \"state\" column\n",
    "\n",
    "df = df[df[\"state\"].isin(state_filter)] # filter out reviews that don't have any of the above in the \"state\" column\n",
    "df.to_csv(\"indeed_reviews_ca.csv\", index=False)"
   ]
  },
  {
   "cell_type": "code",
   "execution_count": 177,
   "metadata": {},
   "outputs": [
    {
     "data": {
      "text/plain": [
       "(5104, 18)"
      ]
     },
     "execution_count": 177,
     "metadata": {},
     "output_type": "execute_result"
    }
   ],
   "source": [
    "df.shape"
   ]
  },
  {
   "cell_type": "code",
   "execution_count": 149,
   "metadata": {},
   "outputs": [],
   "source": [
    "df.to_csv(\"indeed_reviews.csv\")\n"
   ]
  },
  {
   "cell_type": "code",
   "execution_count": 167,
   "metadata": {},
   "outputs": [
    {
     "name": "stdout",
     "output_type": "stream",
     "text": [
      "canada\n",
      "chicago il\n",
      "chicago\n",
      "1401 w north ave chicago\n",
      "fl and extended locations\n",
      "anywhere in chicagoland area\n",
      "within your local state\n",
      "opportunity location at uber partner drivers\n",
      "with uber you start your job location from home\n",
      "howard street chicago il\n",
      "illinois chicago\n",
      "various locations\n",
      "local\n",
      "chicago and nw suburbs\n",
      "chicago illinois\n",
      "naperville/chicago\n",
      "is chicago and surroundings suburbs\n",
      "multiple locations\n",
      "chicago suburban area\n",
      "mcallen tx\n",
      "manteca\n",
      "northern suburbs of chicago\n",
      "dca\n",
      "sw/w suburban chicago/joliet\n",
      "can't say or they might cut me off\n",
      "socal\n",
      "chicagoland\n",
      "instacart\n",
      "carlisle\n",
      "decatur\n",
      "dacatur/bridgeport\n",
      "canton ohio\n",
      "my location is currently temecula murrieta\n",
      "ocala fl\n"
     ]
    }
   ],
   "source": [
    "for i in df[\"state\"].unique():\n",
    "    if type(i) == str:\n",
    "        if i not in state_filter and len(i) > 2 and \"ca\" in i:\n",
    "            print(i)"
   ]
  },
  {
   "cell_type": "code",
   "execution_count": 152,
   "metadata": {},
   "outputs": [
    {
     "data": {
      "image/png": "[encoded data removed]",
      "text/plain": [
       "<Figure size 640x480 with 1 Axes>"
      ]
     },
     "metadata": {},
     "output_type": "display_data"
    }
   ],
   "source": [
    "plt.hist(df[\"datetime\"], bins=50)\n",
    "plt.show()"
   ]
  },
  {
   "cell_type": "code",
   "execution_count": null,
   "metadata": {},
   "outputs": [],
   "source": []
  }
 ],
 "metadata": {
  "kernelspec": {
   "display_name": "main",
   "language": "python",
   "name": "python3"
  },
  "language_info": {
   "codemirror_mode": {
    "name": "ipython",
    "version": 3
   },
   "file_extension": ".py",
   "mimetype": "text/x-python",
   "name": "python",
   "nbconvert_exporter": "python",
   "pygments_lexer": "ipython3",
   "version": "3.10.11"
  },
  "orig_nbformat": 4
 },
 "nbformat": 4,
 "nbformat_minor": 2
}
