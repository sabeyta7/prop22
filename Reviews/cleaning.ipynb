{
 "cells": [
  {
   "cell_type": "code",
   "execution_count": 11,
   "metadata": {},
   "outputs": [],
   "source": [
    "import pandas as pd\n",
    "import numpy as np\n",
    "import matplotlib.pyplot as plt"
   ]
  },
  {
   "cell_type": "code",
   "execution_count": 67,
   "metadata": {},
   "outputs": [],
   "source": [
    "def clean_location(x):\n",
    "    \"\"\"Standardize location names\"\"\"\n",
    "    x = str(x).lower().strip()\n",
    "    x = x.replace(\"  \", \" \").replace(\".\", \"\").replace(\",\", \"\")\n",
    "    # we want to pick reviews that have either of these in the \"state\" column\n",
    "    ca_keywords = [\" ca\", \"ca \", \"california\", \"calif\", \"san francisco\", \"nuevo león\", \"san jose\", \"san diego\", \"fresno\",\n",
    "                   \"southern calif\", \"sacramento\", \"los angeles\", \"bay area\", \"san diego\", \"orange county\", \"paso robles\", \"glendale\"]\n",
    "    \n",
    "    ma_keywords = [\"ma \", \" ma\", \"boston\", \n",
    "                   \"massachussett\", \"massachusetts\", \"lowell\",\n",
    "                   \"worcester\", \"cambridge\", \"plymouth\",\n",
    "                   \"springfield\", \"new bedford\", \"quincy\", \"lynn\"]\n",
    "    \n",
    "    or_keywords = [\"oregon\", \"eugene\", \" or\", \"or \", \"portland\", \"bend\", \"medford\"]\n",
    "    ny_keywords = [\"ny \", \" ny\", \"new york\", \"newyork\", \"buffalo\", \"rochester\", \"yonkers\", \n",
    "                   \"syracuse\", \"albany\", \"new york city\", \"nyc\", \"manhattan\", \"brooklyn\", \"queens\", \"bronx\", \"staten island\", \"long island\", \"longisland\"]\n",
    "    tx_keywords = [\"texas\", \" tx\", \"tx \", \"houston\", \"austin\", \"dallas\", \"san antonio\", \"sanantonio\", \"fort worth\", \"fortworth\", \"el paso\", \"elpaso\", \"arlington\", \"corpus christi\", \"corpuschristi\", \"plano\"]\n",
    "    if any(keyword in x for keyword in ca_keywords) or (x == \"ca\"):\n",
    "        return \"ca\"\n",
    "    elif any(keyword in x for keyword in ma_keywords) or (x == \"ma\"):\n",
    "        return \"ma\"\n",
    "    elif any(keyword in x for keyword in or_keywords) or (x == \"or\"):\n",
    "        return \"or\"\n",
    "    elif any(keyword in x for keyword in ny_keywords) or (x == \"ny\"):\n",
    "        return \"ny\"\n",
    "    elif any(keyword in x for keyword in tx_keywords) or (x == \"tx\"):\n",
    "        return \"tx\"\n",
    "    return x\n",
    "\n",
    "def clean_company(x):\n",
    "    \"\"\"Merge Uber, Uber Eats, and Uber Driver into one company name\"\"\"\n",
    "    if \"uber\" in x:\n",
    "        return \"uber\"\n",
    "    return x\n",
    "\n",
    "def is_driver(x):\n",
    "    \"\"\"Check if the reviewer is a driver etc.\"\"\"\n",
    "    if type(x) == str:\n",
    "        x = x.lower()\n",
    "        keywords = [\"driver\", \"dasher\", \"delivery\", \"courier\", \"operator\", \"partner\", \"freelance\", \"self employed\", \"self-employe\", \"selfemploye\",\n",
    "                    \"chauffer\", \"taxi\", \"porter\", \"rideshar\", \"contractor\", \"shopper\", \"food runner\", \"ambassador\", \"food handler\"]\n",
    "        if any(keyword in x for keyword in keywords):\n",
    "            return True\n",
    "    return False"
   ]
  },
  {
   "cell_type": "code",
   "execution_count": 68,
   "metadata": {},
   "outputs": [],
   "source": [
    "paths = [\"indeed_uber_reviews.csv\", \"indeed_Uber-Drivers_reviews.csv\", \n",
    "         \"indeed_Ubereats_reviews.csv\", \"indeed_Lyft_reviews.csv\", \"indeed_Instacart_reviews.csv\",\n",
    "         \"indeed_Grubhub_reviews.csv\", \"indeed_Doordash_reviews.csv\", \"indeed_Postmates_reviews.csv\"]\n",
    "dataframes = []\n",
    "for path in paths:\n",
    "    _df = pd.read_csv(path)\n",
    "    _df[\"company\"] = path.split(\"_\")[1].lower()\n",
    "    dataframes.append(_df)\n",
    "    \n",
    "df = pd.concat(dataframes).drop_duplicates().set_index(\"id\").drop([\"url\", \"language\"], axis=1)\n",
    "\n",
    "df[\"datetime\"] = pd.to_datetime(df[\"datetime\"])\n",
    "df['year'] = df['datetime'].dt.year\n",
    "df['month'] = df['datetime'].dt.month\n",
    "df[\"state\"] = df[\"state\"].apply(clean_location)\n",
    "df[\"company\"] = df[\"company\"].apply(clean_company)\n",
    "df[\"is_driver\"] = df[\"reviewer\"].apply(is_driver)\n",
    "df = df[ (df[\"year\"] > 2017) & (df[\"year\"] < 2023)]\n"
   ]
  },
  {
   "cell_type": "code",
   "execution_count": 73,
   "metadata": {},
   "outputs": [],
   "source": [
    "#df[df[\"state\"] == \"ny\"].shape"
   ]
  },
  {
   "cell_type": "code",
   "execution_count": 71,
   "metadata": {},
   "outputs": [],
   "source": [
    "df[df[\"state\"] == \"ca\"].to_csv(\"indeed_reviews_ca.csv\", index=True) # filter out reviews that don't have any of the above in the \"state\" column\n",
    "df[df[\"state\"] == \"ma\"].to_csv(\"indeed_reviews_ma.csv\", index=True) # filter out reviews that don't have any of the above in the \"state\" column\n",
    "df[df[\"state\"] == \"or\"].to_csv(\"indeed_reviews_or.csv\", index=True) # filter out reviews that don't have any of the above in the \"state\" column\n",
    "df[df[\"state\"] == \"ny\"].to_csv(\"indeed_reviews_ny.csv\", index=True) # filter out reviews that don't have any of the above in the \"state\" column'ArithmeticError\n",
    "df[df[\"state\"] == \"tx\"].to_csv(\"indeed_reviews_tx.csv\", index=True) # filter out reviews that don't have any of the above in the \"state\" column"
   ]
  },
  {
   "cell_type": "code",
   "execution_count": 75,
   "metadata": {},
   "outputs": [
    {
     "data": {
      "image/png": "[encoded data removed]",
      "text/plain": [
       "<Figure size 1000x500 with 1 Axes>"
      ]
     },
     "metadata": {},
     "output_type": "display_data"
    }
   ],
   "source": [
    "fig = plt.figure(figsize=(10, 5))\n",
    "plt.hist(df[\"datetime\"], bins=100)\n",
    "plt.show()\n"
   ]
  },
  {
   "cell_type": "code",
   "execution_count": null,
   "metadata": {},
   "outputs": [],
   "source": []
  }
 ],
 "metadata": {
  "kernelspec": {
   "display_name": "main",
   "language": "python",
   "name": "python3"
  },
  "language_info": {
   "codemirror_mode": {
    "name": "ipython",
    "version": 3
   },
   "file_extension": ".py",
   "mimetype": "text/x-python",
   "name": "python",
   "nbconvert_exporter": "python",
   "pygments_lexer": "ipython3",
   "version": "3.10.11"
  },
  "orig_nbformat": 4
 },
 "nbformat": 4,
 "nbformat_minor": 2
}
