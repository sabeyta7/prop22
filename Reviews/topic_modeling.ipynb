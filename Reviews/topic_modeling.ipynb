{
 "cells": [
  {
   "cell_type": "code",
   "execution_count": 16,
   "metadata": {},
   "outputs": [],
   "source": [
    "import pandas as pd\n",
    "import numpy as np\n",
    "import nltk\n",
    "import numpy as np\n",
    "import seaborn as sns\n",
    "from tqdm import tqdm\n",
    "import tomotopy as tp\n",
    "import spacy\n",
    "\n",
    "def combine(x):\n",
    "        out = \"\"\n",
    "        cols = ['title', 'pros', 'cons', \"text\"]\n",
    "        for col in cols:\n",
    "                if type(x[col]) == str:\n",
    "                        out += x[col] + \". \"\n",
    "        return out\n",
    "\n",
    "companies = ['uber', 'uber-drivers', 'ubereats', 'lyft', 'instacart', 'grubhub', 'doordash', 'postmates']\n",
    "nlp = spacy.load('en_core_web_sm')\n",
    "\n",
    "def text2lemma(text):\n",
    "    doc = nlp(text)\n",
    "    lemmas = [token.lemma_ for token in doc \n",
    "                         if not token.is_stop and token.text not in companies]\n",
    "\n",
    "    return \" \".join(lemmas)\n",
    "\n",
    "def number_of_months(date):\n",
    "    return (date.year - 2018) * 12 + date.month - 1"
   ]
  },
  {
   "cell_type": "markdown",
   "metadata": {},
   "source": [
    "We model topics based on **all the data** from Indeed (over **all the periods**). \n",
    "\n",
    "**Output**:\n",
    "    Pretrained model"
   ]
  },
  {
   "cell_type": "code",
   "execution_count": 17,
   "metadata": {},
   "outputs": [],
   "source": [
    "paths = [\"indeed_uber_reviews.csv\", \"indeed_Uber-Drivers_reviews.csv\", \n",
    "         \"indeed_Ubereats_reviews.csv\", \"indeed_Lyft_reviews.csv\", \"indeed_Instacart_reviews.csv\",\n",
    "         \"indeed_Grubhub_reviews.csv\", \"indeed_Doordash_reviews.csv\", \"indeed_Postmates_reviews.csv\"]\n",
    "dataframes = []\n",
    "for path in paths:\n",
    "    _df = pd.read_csv(path)\n",
    "    _df[\"company\"] = path.split(\"_\")[1].lower()\n",
    "    dataframes.append(_df)\n",
    "    \n",
    "df = pd.concat(dataframes).drop_duplicates().set_index(\"id\").drop([\"url\", \"language\"], axis=1)\n",
    "\n",
    "df[\"datetime\"] = pd.to_datetime(df[\"datetime\"])\n",
    "df['year'] = df['datetime'].dt.year\n",
    "df['month'] = df['datetime'].dt.month\n",
    "df = df[ (df[\"year\"] > 2017) & (df[\"year\"] < 2023)]\n",
    "\n",
    "df[\"combined_text\"] = df.apply(lambda x: combine(x), axis=1)\n",
    "df['processed_text'] = df['combined_text'].apply(text2lemma)"
   ]
  },
  {
   "cell_type": "code",
   "execution_count": 20,
   "metadata": {},
   "outputs": [
    {
     "name": "stderr",
     "output_type": "stream",
     "text": [
      "25228it [00:02, 11204.97it/s]\n",
      "/tmp/ipykernel_2051/459253924.py:8: RuntimeWarning: The training result may differ even with fixed seed if `workers` != 1.\n",
      "  model.train(1000, workers=4)\n"
     ]
    }
   ],
   "source": [
    "corpus = tp.utils.Corpus(tokenizer=tp.utils.SimpleTokenizer())\n",
    "\n",
    "for i, row in tqdm(df.iterrows()):\n",
    "    text = row[\"processed_text\"]\n",
    "    corpus.add_doc(raw=text)\n",
    "\n",
    "model = tp.PAModel(k1=1, k2=5,  tw=2, min_cf=10, corpus=corpus, seed=0)\n",
    "model.train(1000, workers=4)\n",
    "model.save(\"topic_modeling.model\")"
   ]
  },
  {
   "cell_type": "code",
   "execution_count": 21,
   "metadata": {},
   "outputs": [
    {
     "name": "stdout",
     "output_type": "stream",
     "text": [
      "TOPIC 0\n",
      "Words:\n",
      "['job', 'great', 'work', 'good', 'money', 'time', 'schedule', 'want', 'people', 'hour']\n",
      "==========================\n",
      "TOPIC 1\n",
      "Words:\n",
      "['pay', 'order', 'tip', 'delivery', 'hour', 'time', 'gas', 'money', 'day', 'low']\n",
      "==========================\n",
      "TOPIC 2\n",
      "Words:\n",
      "['people', 'uber', 'work', 'driver', 'great', 'lyft', 'company', 'drive', 'good', 'job']\n",
      "==========================\n",
      "TOPIC 3\n",
      "Words:\n",
      "['driver', 'customer', 'support', 'uber', 'company', 'pay', 'care', 'car', 'app', 'order']\n",
      "==========================\n",
      "TOPIC 4\n",
      "Words:\n",
      "['work', 'company', 'good', 'job', 'great', 'people', 'want', 'like', 'time', 'schedule']\n",
      "==========================\n"
     ]
    }
   ],
   "source": [
    "top_n = 10\n",
    "for k in range(model.k2):\n",
    "    print(\"TOPIC\", k)\n",
    "    print(\"Words:\")\n",
    "    print([item[0] for item in model.get_topic_words(k, top_n=top_n)])\n",
    "    print(\"==========================\")"
   ]
  },
  {
   "cell_type": "code",
   "execution_count": null,
   "metadata": {},
   "outputs": [],
   "source": []
  }
 ],
 "metadata": {
  "kernelspec": {
   "display_name": "main",
   "language": "python",
   "name": "python3"
  },
  "language_info": {
   "codemirror_mode": {
    "name": "ipython",
    "version": 3
   },
   "file_extension": ".py",
   "mimetype": "text/x-python",
   "name": "python",
   "nbconvert_exporter": "python",
   "pygments_lexer": "ipython3",
   "version": "3.10.11"
  },
  "orig_nbformat": 4
 },
 "nbformat": 4,
 "nbformat_minor": 2
}
